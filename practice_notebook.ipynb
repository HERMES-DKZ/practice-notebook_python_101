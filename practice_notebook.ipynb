{
 "cells": [
  {
   "cell_type": "markdown",
   "id": "8368a495-876f-45fa-8f97-6cdc249cdbba",
   "metadata": {},
   "source": [
    "# Python 101 for the Humanities"
   ]
  },
  {
   "cell_type": "markdown",
   "id": "878b7ee0-389a-4838-b0ef-18f9edc95a71",
   "metadata": {},
   "source": [
    "## 24.09.2025 - The 5th Culture Community Plenary of NFDI4Culture"
   ]
  },
  {
   "cell_type": "markdown",
   "id": "9b3f8cba-7114-4ac9-90e2-4b3c246b21ba",
   "metadata": {},
   "source": [
    "Welcome to the workshop!\n",
    "\n",
    "In this notebook, you'll practice the material from [the corresponding online lesson](https://hermes-dkz.github.io/python_101_humanities/), which is currently under development. \n",
    "\n",
    "Both the lesson content and this notebook were created by [Golnaz Sarkar Farshi](mailto:golnaz.sarkarfarshi@uni-marburg.de)."
   ]
  },
  {
   "cell_type": "markdown",
   "id": "42f8594d-4870-4ab5-8417-3ffb9dfa4c01",
   "metadata": {},
   "source": [
    "📋 First things first! Please enter your name and email address in the [attendance list](https://docs.google.com/forms/d/e/1FAIpQLSccIdkH0CXo6vX6il3CWTZy9-5UDFfM2wt0YN23p5S8y5c7HA/viewform?usp=header). This information will be used to issue a certificate of participation and send it to you after the workshop. "
   ]
  },
  {
   "cell_type": "code",
   "execution_count": null,
   "id": "5df51f93-d283-47b4-8603-004a2b923139",
   "metadata": {},
   "outputs": [],
   "source": [
    "import warnings\n",
    "warnings.simplefilter(action='ignore', category=FutureWarning)"
   ]
  },
  {
   "cell_type": "markdown",
   "id": "0149cfdd-44b8-4b78-95eb-aa67088fe9d6",
   "metadata": {},
   "source": [
    "## Searching and counting"
   ]
  },
  {
   "cell_type": "code",
   "execution_count": null,
   "id": "8502bec0-ee54-4e69-91e6-c9b652216e17",
   "metadata": {},
   "outputs": [],
   "source": [
    "import pandas as pd"
   ]
  },
  {
   "cell_type": "code",
   "execution_count": null,
   "id": "95cde3fb-541b-42ad-a9ee-36a7a3110dc7",
   "metadata": {},
   "outputs": [],
   "source": [
    "a_number = 12\n",
    "a_number"
   ]
  },
  {
   "cell_type": "code",
   "execution_count": null,
   "id": "e1318e9d-b366-43d9-8366-31bd10d6f2e5",
   "metadata": {},
   "outputs": [],
   "source": [
    "a_string= \"This is a string, consisting of numbers (like 13), letters and other signs!\"\n",
    "# YOUR CODE HERE"
   ]
  },
  {
   "cell_type": "code",
   "execution_count": null,
   "id": "b381e1f8-440d-4791-a720-002b8565d2d6",
   "metadata": {},
   "outputs": [],
   "source": [
    "data_path= 'https://raw.githubusercontent.com/HERMES-DKZ/python_101_humanities/main/episodes/data/moma_artworks.csv'"
   ]
  },
  {
   "cell_type": "code",
   "execution_count": null,
   "id": "e6528c70-5c46-47da-92f0-dd6a7ff8c673",
   "metadata": {
    "scrolled": true
   },
   "outputs": [],
   "source": [
    "moma_df= pd.read_csv(data_path)\n",
    "moma_df"
   ]
  },
  {
   "cell_type": "code",
   "execution_count": null,
   "id": "7e933a77-3c8a-434d-8037-83003ca34826",
   "metadata": {
    "scrolled": true
   },
   "outputs": [],
   "source": [
    "moma_df.head()"
   ]
  },
  {
   "cell_type": "markdown",
   "id": "774ec29e-a9e4-42d3-b624-02a993552405",
   "metadata": {},
   "source": [
    "Try writing the pseudocode for the steps we have taken so far. It helps you better understand how to plan your analysis and communicate with the commputer through each step."
   ]
  },
  {
   "cell_type": "code",
   "execution_count": null,
   "id": "071c260c-423b-4921-93f7-b4ff550efd63",
   "metadata": {},
   "outputs": [],
   "source": [
    "\"\"\"\n",
    "YOUR PSEUDOCODE HERE:\n",
    "\n",
    "1. \n",
    "2. \n",
    "3. \n",
    "4. \n",
    "5.\n",
    "\n",
    "\"\"\""
   ]
  },
  {
   "cell_type": "markdown",
   "id": "b5a453fd-5def-4688-8c73-49dd5d073ce6",
   "metadata": {},
   "source": [
    "Now, match each step from the pseudocode with its corresponding line of Python code from the previous cells, and enter it in the appropriate place in the cell below:"
   ]
  },
  {
   "cell_type": "code",
   "execution_count": null,
   "id": "d79341c1-90fd-42cf-bd98-318024363684",
   "metadata": {},
   "outputs": [],
   "source": [
    "# Step 1:\n",
    "# YOUR CODE HERE\n",
    "\n",
    "# Step 1:\n",
    "# YOUR CODE HERE\n",
    "\n",
    "# Step 3:\n",
    "# YOUR CODE HERE\n",
    "\n",
    "# Step 4:\n",
    "# YOUR CODE HERE\n",
    "\n",
    "# Step 5:\n",
    "# YOUR CODE HERE"
   ]
  },
  {
   "cell_type": "markdown",
   "id": "1196420b-50d0-4aa0-9ee7-5a6d87a85ce3",
   "metadata": {},
   "source": [
    "Apply the method `.info()` to `moma_df`:"
   ]
  },
  {
   "cell_type": "code",
   "execution_count": null,
   "id": "129dcdcb-a6fb-4fd2-9b76-9a4fde4979ca",
   "metadata": {},
   "outputs": [],
   "source": [
    "# YOUR CODE HERE"
   ]
  },
  {
   "cell_type": "markdown",
   "id": "a89dd3be-edbb-4850-a160-4b295f94c1ee",
   "metadata": {},
   "source": [
    "We want to identify all the artist names in the DataFrame and determine how many works by each artist are included in MoMA's collection. How should we proceed? Break the task down into single steps and write the pseudocode for each step:"
   ]
  },
  {
   "cell_type": "code",
   "execution_count": null,
   "id": "70b105ae-5ba8-48dd-87b5-001ccbe77504",
   "metadata": {},
   "outputs": [],
   "source": [
    "\"\"\"\n",
    "YOUR PSEUDOCODE HERE:\n",
    "\n",
    "1. \n",
    "2. \n",
    "3. \n",
    "4. \n",
    "5.\n",
    "\n",
    "\"\"\""
   ]
  },
  {
   "cell_type": "markdown",
   "id": "7a763b5c-ae96-48dd-b2f0-1eb70a2ebf0b",
   "metadata": {},
   "source": [
    "Let's translate the pseudocode into Python code: "
   ]
  },
  {
   "cell_type": "code",
   "execution_count": null,
   "id": "e39b5ecc-0884-491d-ae54-546e77d44e47",
   "metadata": {},
   "outputs": [],
   "source": [
    "# YOUR CODE HERE"
   ]
  },
  {
   "cell_type": "markdown",
   "id": "02ff306d-be27-4661-8af8-396363244ed8",
   "metadata": {},
   "source": [
    "We want to create a new dataframe based on `moma_df` with four columns: ['Artist', 'Number of Works', 'Gender', 'Nationality']. How should we proceed? Break the task down into single steps and write the pseudocode for each step:"
   ]
  },
  {
   "cell_type": "code",
   "execution_count": null,
   "id": "168b906a-f600-456e-95a7-6aa156d4e554",
   "metadata": {},
   "outputs": [],
   "source": [
    "\"\"\"\n",
    "YOUR PSEUDOCODE HERE:\n",
    "\n",
    "1. \n",
    "2. \n",
    "3. \n",
    "4. \n",
    "5.\n",
    "\n",
    "\"\"\""
   ]
  },
  {
   "cell_type": "markdown",
   "id": "0c888799-dc66-489c-94a7-b50608cc88d0",
   "metadata": {},
   "source": [
    "Let's translate this pseudocode into Python code as well:"
   ]
  },
  {
   "cell_type": "code",
   "execution_count": null,
   "id": "38fab006-e6ac-4ee0-88b6-07cd853617d5",
   "metadata": {},
   "outputs": [],
   "source": [
    "# YOUR CODE HERE"
   ]
  },
  {
   "cell_type": "markdown",
   "id": "9c263790-38e3-4359-b5f5-ba4c7f667bdc",
   "metadata": {},
   "source": [
    "Write the python code that shows how many works in MoMA's collection are attributed to artists of different genders."
   ]
  },
  {
   "cell_type": "code",
   "execution_count": null,
   "id": "66c2c9b3-e86d-48e8-87c9-1b6b7b32531e",
   "metadata": {},
   "outputs": [],
   "source": [
    "# YOUR CODE HERE"
   ]
  },
  {
   "cell_type": "markdown",
   "id": "4029cec1-7b07-485c-995d-017d3c64bb4d",
   "metadata": {},
   "source": [
    "Write the pseudocode to find the artist and the artwork that correspond to the gender \"() (male) (male) (male) () (male) (male) (female)\"."
   ]
  },
  {
   "cell_type": "code",
   "execution_count": null,
   "id": "c00d733a-10e2-4945-92ae-ccc34f5b9f20",
   "metadata": {},
   "outputs": [],
   "source": [
    "\"\"\"\n",
    "YOUR PSEUDOCODE HERE:\n",
    "\n",
    "1. \n",
    "2. \n",
    "3. \n",
    "4. \n",
    "5.\n",
    "\n",
    "\"\"\""
   ]
  },
  {
   "cell_type": "markdown",
   "id": "72057805-56ee-4b44-867a-aadde8e53189",
   "metadata": {},
   "source": [
    "Again, let's translate the pseudocode into Python code:"
   ]
  },
  {
   "cell_type": "code",
   "execution_count": null,
   "id": "44b21bdc-bdad-468b-b98e-44f17d22e24c",
   "metadata": {
    "scrolled": true
   },
   "outputs": [],
   "source": [
    "# YOUR CODE HERE"
   ]
  },
  {
   "cell_type": "markdown",
   "id": "e6cc3d73-0877-4724-b355-9c6de7b07d16",
   "metadata": {},
   "source": [
    "As you can see, the artists' name is not completely readable in the table. Let’s try to access the complete artist name for this specific artwork by adding some more pseudocode and Python code:"
   ]
  },
  {
   "cell_type": "code",
   "execution_count": null,
   "id": "f8d4627b-5b0a-425b-9a4f-a715d55ab596",
   "metadata": {},
   "outputs": [],
   "source": [
    "\"\"\"\n",
    "YOUR PSEUDOCODE HERE:\n",
    "\n",
    "1. \n",
    "2. \n",
    "\n",
    "\"\"\""
   ]
  },
  {
   "cell_type": "code",
   "execution_count": null,
   "id": "4923b4df-ba31-4cf5-9781-13f1281abd9f",
   "metadata": {},
   "outputs": [],
   "source": [
    "# YOUR CODE HERE"
   ]
  },
  {
   "cell_type": "markdown",
   "id": "776a0f41-0372-4e75-921c-e79bf17a257f",
   "metadata": {},
   "source": [
    "Let's take a look at which artist nationalities are most represented in `artist_info`. Write a python code that outputs the top 10 artist nationalities from the dataset. "
   ]
  },
  {
   "cell_type": "code",
   "execution_count": null,
   "id": "db989975-d9ec-469e-8851-e35e2c411648",
   "metadata": {},
   "outputs": [],
   "source": [
    "# YOUR CODE HERE"
   ]
  },
  {
   "cell_type": "markdown",
   "id": "198de394-0253-4c24-9618-d5bc23083132",
   "metadata": {},
   "source": [
    "Now write a code that outputs the ten least represented artist nationalities in `artist_info`."
   ]
  },
  {
   "cell_type": "code",
   "execution_count": null,
   "id": "e8470c16-c62b-4b90-9576-82133e77551b",
   "metadata": {},
   "outputs": [],
   "source": [
    "# YOUR CODE HERE"
   ]
  },
  {
   "cell_type": "markdown",
   "id": "20dc598a-e97f-4f51-8190-dafcf3f94ae6",
   "metadata": {},
   "source": [
    "## Visualizing"
   ]
  },
  {
   "cell_type": "code",
   "execution_count": null,
   "id": "bba349a1-4b82-464a-93bc-1eaf244a8242",
   "metadata": {},
   "outputs": [],
   "source": [
    "import plotly.express as px\n",
    "import pandas as pd"
   ]
  },
  {
   "cell_type": "markdown",
   "id": "2499ca51-438c-42ff-9254-d8a365cc0fb6",
   "metadata": {},
   "source": [
    "let's visualize the distribution of artistic media over time in MoMA's collection. To keep the graph clear and easy to read, we'll focus only on the top eight most common artistic media found in `moma_df`. "
   ]
  },
  {
   "cell_type": "code",
   "execution_count": null,
   "id": "4d39b63e-0d87-4d0f-b7bc-09f92f8c150d",
   "metadata": {},
   "outputs": [],
   "source": [
    "top_media = moma_df['Medium'].value_counts().nlargest(8).index\n",
    "moma_df['Date'] = pd.to_numeric(moma_df['Date'], errors='coerce')\n",
    "medium_df = moma_df[moma_df['Medium'].isin(top_media)]\n",
    "\n",
    "fig = px.histogram(medium_df, x='Date', color='Medium',\n",
    "                   nbins=50,\n",
    "                   title='Trends in Medium Usage Over Time',\n",
    "                   labels={'Date': 'Year', 'count': 'Number of Works'})\n",
    "fig.show()"
   ]
  },
  {
   "cell_type": "markdown",
   "id": "d39e1386-4525-4e65-8046-1fa89c503050",
   "metadata": {},
   "source": [
    "In your group, discuss how the above code works and what each function, method, and argument does. Play with the arguments, change them, and see what happends. \n",
    "\n",
    "Keep in mind that all Python libraries, along with their functions and methods, are well-documented. You can read these documentations to understand other people's code or learn how to implement new libraries in your own code.\n",
    "\n",
    "To understand how the `histogram` function from the `plotly.express` module functions, check out the documentation of plotly.express.histogram \n",
    "[here](https://plotly.github.io/plotly.py-docs/generated/plotly.express.histogram.html). "
   ]
  },
  {
   "cell_type": "markdown",
   "id": "6af11be1-61db-4f1b-a29f-45022fa05463",
   "metadata": {},
   "source": [
    "Try reading and interpreting the graph. Explain what it shows in simple, natural language. Based on the graph, draw a conclusion about MoMA's collection."
   ]
  },
  {
   "cell_type": "markdown",
   "id": "ec9dcc4a-5da8-4736-b14f-7a06a7a6d904",
   "metadata": {},
   "source": [
    "Now, let's visualize a second graph using the MoMA database. This time, the process will be a bit more complex. It's up to you to understand the functionality of the code and what information the resulting graph will represent."
   ]
  },
  {
   "cell_type": "code",
   "execution_count": null,
   "id": "285d2a60-87f5-4bd4-b1d0-51483c34a485",
   "metadata": {},
   "outputs": [],
   "source": [
    "df = moma_df.copy()\n",
    "df['Date'] = pd.to_numeric(df['Date'], errors='coerce')\n",
    "df = df.dropna(subset=['Date', 'Nationality'])\n",
    "\n",
    "grouped = df.groupby(['Date', 'Nationality']).size().reset_index(name='Count')\n",
    "top_nationalities = df['Nationality'].value_counts().nlargest(7).index\n",
    "grouped = grouped[grouped['Nationality'].isin(top_nationalities)]\n",
    "\n",
    "fig = px.scatter(grouped, x='Date', y='Nationality', size='Count', color='Nationality',\n",
    "                 title='Frequency of Artworks by Nationality Over Time',\n",
    "                 labels={'Date': 'Year'})\n",
    "fig.show()"
   ]
  },
  {
   "cell_type": "markdown",
   "id": "63e1dcbc-b7ac-4d31-bae6-9176b0b27dd5",
   "metadata": {},
   "source": [
    "## Workshop Survey"
   ]
  },
  {
   "cell_type": "markdown",
   "id": "b456b83c-c783-4dd9-b5c3-b7617207cafe",
   "metadata": {},
   "source": [
    "Thank you for your attention and your active participation!\n",
    "\n",
    "📋 Please take a couple of minutes to complete [this survey](https://onlineumfrage.hs-mainz.de/index.php/316686?lang=de). It will help me develop and teach similar material with higher quality in future. "
   ]
  }
 ],
 "metadata": {
  "kernelspec": {
   "display_name": "Python 3 (ipykernel)",
   "language": "python",
   "name": "python3"
  },
  "language_info": {
   "codemirror_mode": {
    "name": "ipython",
    "version": 3
   },
   "file_extension": ".py",
   "mimetype": "text/x-python",
   "name": "python",
   "nbconvert_exporter": "python",
   "pygments_lexer": "ipython3",
   "version": "3.10.6"
  }
 },
 "nbformat": 4,
 "nbformat_minor": 5
}
